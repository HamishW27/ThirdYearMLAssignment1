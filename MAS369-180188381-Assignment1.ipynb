{
 "cells": [
  {
   "cell_type": "code",
   "execution_count": 2,
   "metadata": {},
   "outputs": [],
   "source": [
    "%matplotlib inline\n",
    "import numpy as np\n",
    "import matplotlib.pyplot as plt\n",
    "import pandas as pd\n",
    "import seaborn as sns\n",
    "from sklearn.decomposition import PCA\n",
    "from sklearn.preprocessing import StandardScaler\n",
    "plt.style.use(\"seaborn\")"
   ]
  },
  {
   "cell_type": "code",
   "execution_count": 3,
   "metadata": {},
   "outputs": [],
   "source": [
    "ass=pd.read_csv(\"/home/hamish/University/Third Year/MAS369 - Machine Learning/Assignment 1/ass.csv\",index_col=\"Observations\")"
   ]
  },
  {
   "cell_type": "code",
   "execution_count": 4,
   "metadata": {},
   "outputs": [
    {
     "data": {
      "text/html": [
       "<div>\n",
       "<style scoped>\n",
       "    .dataframe tbody tr th:only-of-type {\n",
       "        vertical-align: middle;\n",
       "    }\n",
       "\n",
       "    .dataframe tbody tr th {\n",
       "        vertical-align: top;\n",
       "    }\n",
       "\n",
       "    .dataframe thead th {\n",
       "        text-align: right;\n",
       "    }\n",
       "</style>\n",
       "<table border=\"1\" class=\"dataframe\">\n",
       "  <thead>\n",
       "    <tr style=\"text-align: right;\">\n",
       "      <th></th>\n",
       "      <th>V1</th>\n",
       "      <th>V2</th>\n",
       "      <th>V3</th>\n",
       "      <th>V4</th>\n",
       "      <th>V5</th>\n",
       "      <th>V6</th>\n",
       "      <th>V7</th>\n",
       "      <th>V8</th>\n",
       "      <th>V9</th>\n",
       "    </tr>\n",
       "  </thead>\n",
       "  <tbody>\n",
       "    <tr>\n",
       "      <th>V1</th>\n",
       "      <td>1.000000</td>\n",
       "      <td>0.164804</td>\n",
       "      <td>0.007813</td>\n",
       "      <td>0.012752</td>\n",
       "      <td>-0.497798</td>\n",
       "      <td>-0.227074</td>\n",
       "      <td>-0.048866</td>\n",
       "      <td>0.109302</td>\n",
       "      <td>0.314024</td>\n",
       "    </tr>\n",
       "    <tr>\n",
       "      <th>V2</th>\n",
       "      <td>0.164804</td>\n",
       "      <td>1.000000</td>\n",
       "      <td>-0.366992</td>\n",
       "      <td>-0.173375</td>\n",
       "      <td>0.036194</td>\n",
       "      <td>0.289176</td>\n",
       "      <td>-0.586746</td>\n",
       "      <td>-0.180134</td>\n",
       "      <td>-0.273341</td>\n",
       "    </tr>\n",
       "    <tr>\n",
       "      <th>V3</th>\n",
       "      <td>0.007813</td>\n",
       "      <td>-0.366992</td>\n",
       "      <td>1.000000</td>\n",
       "      <td>0.579867</td>\n",
       "      <td>-0.363785</td>\n",
       "      <td>-0.390331</td>\n",
       "      <td>0.531813</td>\n",
       "      <td>-0.540883</td>\n",
       "      <td>0.070498</td>\n",
       "    </tr>\n",
       "    <tr>\n",
       "      <th>V4</th>\n",
       "      <td>0.012752</td>\n",
       "      <td>-0.173375</td>\n",
       "      <td>0.579867</td>\n",
       "      <td>1.000000</td>\n",
       "      <td>-0.516683</td>\n",
       "      <td>-0.622541</td>\n",
       "      <td>-0.130855</td>\n",
       "      <td>-0.243909</td>\n",
       "      <td>0.450059</td>\n",
       "    </tr>\n",
       "    <tr>\n",
       "      <th>V5</th>\n",
       "      <td>-0.497798</td>\n",
       "      <td>0.036194</td>\n",
       "      <td>-0.363785</td>\n",
       "      <td>-0.516683</td>\n",
       "      <td>1.000000</td>\n",
       "      <td>0.265969</td>\n",
       "      <td>-0.220770</td>\n",
       "      <td>-0.101352</td>\n",
       "      <td>-0.452643</td>\n",
       "    </tr>\n",
       "    <tr>\n",
       "      <th>V6</th>\n",
       "      <td>-0.227074</td>\n",
       "      <td>0.289176</td>\n",
       "      <td>-0.390331</td>\n",
       "      <td>-0.622541</td>\n",
       "      <td>0.265969</td>\n",
       "      <td>1.000000</td>\n",
       "      <td>-0.126814</td>\n",
       "      <td>-0.275773</td>\n",
       "      <td>-0.210907</td>\n",
       "    </tr>\n",
       "    <tr>\n",
       "      <th>V7</th>\n",
       "      <td>-0.048866</td>\n",
       "      <td>-0.586746</td>\n",
       "      <td>0.531813</td>\n",
       "      <td>-0.130855</td>\n",
       "      <td>-0.220770</td>\n",
       "      <td>-0.126814</td>\n",
       "      <td>1.000000</td>\n",
       "      <td>0.053412</td>\n",
       "      <td>-0.053724</td>\n",
       "    </tr>\n",
       "    <tr>\n",
       "      <th>V8</th>\n",
       "      <td>0.109302</td>\n",
       "      <td>-0.180134</td>\n",
       "      <td>-0.540883</td>\n",
       "      <td>-0.243909</td>\n",
       "      <td>-0.101352</td>\n",
       "      <td>-0.275773</td>\n",
       "      <td>0.053412</td>\n",
       "      <td>1.000000</td>\n",
       "      <td>-0.006446</td>\n",
       "    </tr>\n",
       "    <tr>\n",
       "      <th>V9</th>\n",
       "      <td>0.314024</td>\n",
       "      <td>-0.273341</td>\n",
       "      <td>0.070498</td>\n",
       "      <td>0.450059</td>\n",
       "      <td>-0.452643</td>\n",
       "      <td>-0.210907</td>\n",
       "      <td>-0.053724</td>\n",
       "      <td>-0.006446</td>\n",
       "      <td>1.000000</td>\n",
       "    </tr>\n",
       "  </tbody>\n",
       "</table>\n",
       "</div>"
      ],
      "text/plain": [
       "          V1        V2        V3        V4        V5        V6        V7  \\\n",
       "V1  1.000000  0.164804  0.007813  0.012752 -0.497798 -0.227074 -0.048866   \n",
       "V2  0.164804  1.000000 -0.366992 -0.173375  0.036194  0.289176 -0.586746   \n",
       "V3  0.007813 -0.366992  1.000000  0.579867 -0.363785 -0.390331  0.531813   \n",
       "V4  0.012752 -0.173375  0.579867  1.000000 -0.516683 -0.622541 -0.130855   \n",
       "V5 -0.497798  0.036194 -0.363785 -0.516683  1.000000  0.265969 -0.220770   \n",
       "V6 -0.227074  0.289176 -0.390331 -0.622541  0.265969  1.000000 -0.126814   \n",
       "V7 -0.048866 -0.586746  0.531813 -0.130855 -0.220770 -0.126814  1.000000   \n",
       "V8  0.109302 -0.180134 -0.540883 -0.243909 -0.101352 -0.275773  0.053412   \n",
       "V9  0.314024 -0.273341  0.070498  0.450059 -0.452643 -0.210907 -0.053724   \n",
       "\n",
       "          V8        V9  \n",
       "V1  0.109302  0.314024  \n",
       "V2 -0.180134 -0.273341  \n",
       "V3 -0.540883  0.070498  \n",
       "V4 -0.243909  0.450059  \n",
       "V5 -0.101352 -0.452643  \n",
       "V6 -0.275773 -0.210907  \n",
       "V7  0.053412 -0.053724  \n",
       "V8  1.000000 -0.006446  \n",
       "V9 -0.006446  1.000000  "
      ]
     },
     "execution_count": 4,
     "metadata": {},
     "output_type": "execute_result"
    }
   ],
   "source": [
    "ass.corr()"
   ]
  },
  {
   "cell_type": "code",
   "execution_count": 5,
   "metadata": {},
   "outputs": [
    {
     "data": {
      "text/plain": [
       "-0.006445713181155919"
      ]
     },
     "execution_count": 5,
     "metadata": {},
     "output_type": "execute_result"
    }
   ],
   "source": [
    "ass[\"V8\"].corr(ass[\"V9\"])"
   ]
  },
  {
   "cell_type": "code",
   "execution_count": 6,
   "metadata": {},
   "outputs": [
    {
     "data": {
      "text/plain": [
       "0.579867112322457"
      ]
     },
     "execution_count": 6,
     "metadata": {},
     "output_type": "execute_result"
    }
   ],
   "source": [
    " ass[\"V3\"].corr(ass[\"V4\"])"
   ]
  },
  {
   "cell_type": "code",
   "execution_count": 7,
   "metadata": {},
   "outputs": [
    {
     "data": {
      "text/plain": [
       "-0.6225408939452463"
      ]
     },
     "execution_count": 7,
     "metadata": {},
     "output_type": "execute_result"
    }
   ],
   "source": [
    "ass[\"V4\"].corr(ass[\"V6\"])"
   ]
  },
  {
   "cell_type": "code",
   "execution_count": 8,
   "metadata": {},
   "outputs": [
    {
     "name": "stdout",
     "output_type": "stream",
     "text": [
      "correlation between V8 and V9 is -0.006445.... Implying no correlation between the variables\n",
      "V3, V4 have the highest positive correlation of 0.5798... and V4,V6 have the greatest negative correlation with -0.622541\n"
     ]
    }
   ],
   "source": [
    "print(\"correlation between V8 and V9 is -0.006445.... Implying no correlation between the variables\")\n",
    "print(\"V3, V4 have the highest positive correlation of 0.5798... and V4,V6 have the greatest negative correlation with -0.622541\")"
   ]
  },
  {
   "cell_type": "code",
   "execution_count": 9,
   "metadata": {},
   "outputs": [
    {
     "data": {
      "text/plain": [
       "53.90909090909091"
      ]
     },
     "execution_count": 9,
     "metadata": {},
     "output_type": "execute_result"
    }
   ],
   "source": [
    "ass.cov().to_numpy().trace()"
   ]
  },
  {
   "cell_type": "code",
   "execution_count": 10,
   "metadata": {},
   "outputs": [
    {
     "data": {
      "text/html": [
       "<div>\n",
       "<style scoped>\n",
       "    .dataframe tbody tr th:only-of-type {\n",
       "        vertical-align: middle;\n",
       "    }\n",
       "\n",
       "    .dataframe tbody tr th {\n",
       "        vertical-align: top;\n",
       "    }\n",
       "\n",
       "    .dataframe thead th {\n",
       "        text-align: right;\n",
       "    }\n",
       "</style>\n",
       "<table border=\"1\" class=\"dataframe\">\n",
       "  <thead>\n",
       "    <tr style=\"text-align: right;\">\n",
       "      <th></th>\n",
       "      <th>V1</th>\n",
       "      <th>V2</th>\n",
       "      <th>V3</th>\n",
       "      <th>V4</th>\n",
       "      <th>V5</th>\n",
       "      <th>V6</th>\n",
       "      <th>V7</th>\n",
       "      <th>V8</th>\n",
       "      <th>V9</th>\n",
       "    </tr>\n",
       "  </thead>\n",
       "  <tbody>\n",
       "    <tr>\n",
       "      <th>V1</th>\n",
       "      <td>0.272727</td>\n",
       "      <td>0.2</td>\n",
       "      <td>0.009091</td>\n",
       "      <td>0.018182</td>\n",
       "      <td>-0.618182</td>\n",
       "      <td>-0.3</td>\n",
       "      <td>-0.063636</td>\n",
       "      <td>0.081818</td>\n",
       "      <td>0.645455</td>\n",
       "    </tr>\n",
       "    <tr>\n",
       "      <th>V2</th>\n",
       "      <td>0.200000</td>\n",
       "      <td>5.4</td>\n",
       "      <td>-1.900000</td>\n",
       "      <td>-1.100000</td>\n",
       "      <td>0.200000</td>\n",
       "      <td>1.7</td>\n",
       "      <td>-3.400000</td>\n",
       "      <td>-0.600000</td>\n",
       "      <td>-2.500000</td>\n",
       "    </tr>\n",
       "    <tr>\n",
       "      <th>V3</th>\n",
       "      <td>0.009091</td>\n",
       "      <td>-1.9</td>\n",
       "      <td>4.963636</td>\n",
       "      <td>3.527273</td>\n",
       "      <td>-1.927273</td>\n",
       "      <td>-2.2</td>\n",
       "      <td>2.954545</td>\n",
       "      <td>-1.727273</td>\n",
       "      <td>0.618182</td>\n",
       "    </tr>\n",
       "    <tr>\n",
       "      <th>V4</th>\n",
       "      <td>0.018182</td>\n",
       "      <td>-1.1</td>\n",
       "      <td>3.527273</td>\n",
       "      <td>7.454545</td>\n",
       "      <td>-3.354545</td>\n",
       "      <td>-4.3</td>\n",
       "      <td>-0.890909</td>\n",
       "      <td>-0.954545</td>\n",
       "      <td>4.836364</td>\n",
       "    </tr>\n",
       "    <tr>\n",
       "      <th>V5</th>\n",
       "      <td>-0.618182</td>\n",
       "      <td>0.2</td>\n",
       "      <td>-1.927273</td>\n",
       "      <td>-3.354545</td>\n",
       "      <td>5.654545</td>\n",
       "      <td>1.6</td>\n",
       "      <td>-1.309091</td>\n",
       "      <td>-0.345455</td>\n",
       "      <td>-4.236364</td>\n",
       "    </tr>\n",
       "    <tr>\n",
       "      <th>V6</th>\n",
       "      <td>-0.300000</td>\n",
       "      <td>1.7</td>\n",
       "      <td>-2.200000</td>\n",
       "      <td>-4.300000</td>\n",
       "      <td>1.600000</td>\n",
       "      <td>6.4</td>\n",
       "      <td>-0.800000</td>\n",
       "      <td>-1.000000</td>\n",
       "      <td>-2.100000</td>\n",
       "    </tr>\n",
       "    <tr>\n",
       "      <th>V7</th>\n",
       "      <td>-0.063636</td>\n",
       "      <td>-3.4</td>\n",
       "      <td>2.954545</td>\n",
       "      <td>-0.890909</td>\n",
       "      <td>-1.309091</td>\n",
       "      <td>-0.8</td>\n",
       "      <td>6.218182</td>\n",
       "      <td>0.190909</td>\n",
       "      <td>-0.527273</td>\n",
       "    </tr>\n",
       "    <tr>\n",
       "      <th>V8</th>\n",
       "      <td>0.081818</td>\n",
       "      <td>-0.6</td>\n",
       "      <td>-1.727273</td>\n",
       "      <td>-0.954545</td>\n",
       "      <td>-0.345455</td>\n",
       "      <td>-1.0</td>\n",
       "      <td>0.190909</td>\n",
       "      <td>2.054545</td>\n",
       "      <td>-0.036364</td>\n",
       "    </tr>\n",
       "    <tr>\n",
       "      <th>V9</th>\n",
       "      <td>0.645455</td>\n",
       "      <td>-2.5</td>\n",
       "      <td>0.618182</td>\n",
       "      <td>4.836364</td>\n",
       "      <td>-4.236364</td>\n",
       "      <td>-2.1</td>\n",
       "      <td>-0.527273</td>\n",
       "      <td>-0.036364</td>\n",
       "      <td>15.490909</td>\n",
       "    </tr>\n",
       "  </tbody>\n",
       "</table>\n",
       "</div>"
      ],
      "text/plain": [
       "          V1   V2        V3        V4        V5   V6        V7        V8  \\\n",
       "V1  0.272727  0.2  0.009091  0.018182 -0.618182 -0.3 -0.063636  0.081818   \n",
       "V2  0.200000  5.4 -1.900000 -1.100000  0.200000  1.7 -3.400000 -0.600000   \n",
       "V3  0.009091 -1.9  4.963636  3.527273 -1.927273 -2.2  2.954545 -1.727273   \n",
       "V4  0.018182 -1.1  3.527273  7.454545 -3.354545 -4.3 -0.890909 -0.954545   \n",
       "V5 -0.618182  0.2 -1.927273 -3.354545  5.654545  1.6 -1.309091 -0.345455   \n",
       "V6 -0.300000  1.7 -2.200000 -4.300000  1.600000  6.4 -0.800000 -1.000000   \n",
       "V7 -0.063636 -3.4  2.954545 -0.890909 -1.309091 -0.8  6.218182  0.190909   \n",
       "V8  0.081818 -0.6 -1.727273 -0.954545 -0.345455 -1.0  0.190909  2.054545   \n",
       "V9  0.645455 -2.5  0.618182  4.836364 -4.236364 -2.1 -0.527273 -0.036364   \n",
       "\n",
       "           V9  \n",
       "V1   0.645455  \n",
       "V2  -2.500000  \n",
       "V3   0.618182  \n",
       "V4   4.836364  \n",
       "V5  -4.236364  \n",
       "V6  -2.100000  \n",
       "V7  -0.527273  \n",
       "V8  -0.036364  \n",
       "V9  15.490909  "
      ]
     },
     "execution_count": 10,
     "metadata": {},
     "output_type": "execute_result"
    }
   ],
   "source": [
    "ass.cov()"
   ]
  },
  {
   "cell_type": "code",
   "execution_count": 11,
   "metadata": {},
   "outputs": [
    {
     "name": "stdout",
     "output_type": "stream",
     "text": [
      "Index(['V1', 'V2', 'V3', 'V4', 'V5', 'V6', 'V7', 'V8', 'V9'], dtype='object')\n"
     ]
    }
   ],
   "source": [
    "variables = ass.T.index\n",
    "print(variables)"
   ]
  },
  {
   "cell_type": "code",
   "execution_count": 12,
   "metadata": {},
   "outputs": [],
   "source": [
    "scaler=StandardScaler()\n",
    "scaler.fit(ass)\n",
    "ass_sc=scaler.transform(ass)"
   ]
  },
  {
   "cell_type": "code",
   "execution_count": 13,
   "metadata": {},
   "outputs": [
    {
     "data": {
      "text/plain": [
       "PCA()"
      ]
     },
     "execution_count": 13,
     "metadata": {},
     "output_type": "execute_result"
    }
   ],
   "source": [
    "pca=PCA()\n",
    "pca.fit(ass)"
   ]
  },
  {
   "cell_type": "code",
   "execution_count": 14,
   "metadata": {},
   "outputs": [
    {
     "data": {
      "text/plain": [
       "array([0.41621464, 0.63009017, 0.78272917, 0.87956382, 0.95745704,\n",
       "       0.98972635, 0.99802377, 0.99991219, 1.        ])"
      ]
     },
     "execution_count": 14,
     "metadata": {},
     "output_type": "execute_result"
    }
   ],
   "source": [
    "np.cumsum(pca.explained_variance_ratio_)"
   ]
  },
  {
   "cell_type": "code",
   "execution_count": 15,
   "metadata": {},
   "outputs": [
    {
     "data": {
      "text/plain": [
       "Text(0, 0.5, 'PC2')"
      ]
     },
     "execution_count": 15,
     "metadata": {},
     "output_type": "execute_result"
    },
    {
     "data": {
      "image/png": "[encoded data removed]",
      "text/plain": [
       "<Figure size 576x396 with 1 Axes>"
      ]
     },
     "metadata": {},
     "output_type": "display_data"
    }
   ],
   "source": [
    "p=pca.fit_transform(ass)\n",
    "plt.scatter(x=p[:10,0],y=p[:10,1])\n",
    "plt.plot(p[10,0],p[10,1],'ro',marker=\"*\")\n",
    "plt.xlabel(\"PC1\")\n",
    "plt.ylabel(\"PC2\")\n",
    "#plt.savefig(\"pca.png\")"
   ]
  },
  {
   "cell_type": "code",
   "execution_count": 16,
   "metadata": {},
   "outputs": [
    {
     "data": {
      "text/plain": [
       "array([0.41621464, 0.63009017, 0.78272917, 0.87956382, 0.95745704,\n",
       "       0.98972635, 0.99802377, 0.99991219, 1.        ])"
      ]
     },
     "execution_count": 16,
     "metadata": {},
     "output_type": "execute_result"
    }
   ],
   "source": [
    "np.cumsum(pca.explained_variance_ratio_)"
   ]
  },
  {
   "cell_type": "code",
   "execution_count": 17,
   "metadata": {},
   "outputs": [],
   "source": [
    "#Part 2"
   ]
  },
  {
   "cell_type": "code",
   "execution_count": 18,
   "metadata": {},
   "outputs": [],
   "source": [
    "bulls=pd.read_csv(\"/home/hamish/University/Third Year/MAS369 - Machine Learning/Assignment 1/bulls.csv\")"
   ]
  },
  {
   "cell_type": "code",
   "execution_count": 19,
   "metadata": {},
   "outputs": [
    {
     "data": {
      "text/html": [
       "<div>\n",
       "<style scoped>\n",
       "    .dataframe tbody tr th:only-of-type {\n",
       "        vertical-align: middle;\n",
       "    }\n",
       "\n",
       "    .dataframe tbody tr th {\n",
       "        vertical-align: top;\n",
       "    }\n",
       "\n",
       "    .dataframe thead th {\n",
       "        text-align: right;\n",
       "    }\n",
       "</style>\n",
       "<table border=\"1\" class=\"dataframe\">\n",
       "  <thead>\n",
       "    <tr style=\"text-align: right;\">\n",
       "      <th></th>\n",
       "      <th>bullno</th>\n",
       "      <th>breed</th>\n",
       "      <th>price</th>\n",
       "      <th>frame</th>\n",
       "      <th>heightyear</th>\n",
       "      <th>fatreebody</th>\n",
       "      <th>pcntfree</th>\n",
       "      <th>backfat</th>\n",
       "      <th>finalht</th>\n",
       "      <th>finalwt</th>\n",
       "    </tr>\n",
       "  </thead>\n",
       "  <tbody>\n",
       "    <tr>\n",
       "      <th>0</th>\n",
       "      <td>1</td>\n",
       "      <td>1</td>\n",
       "      <td>2200</td>\n",
       "      <td>7</td>\n",
       "      <td>51.0</td>\n",
       "      <td>1128</td>\n",
       "      <td>70.9</td>\n",
       "      <td>0.25</td>\n",
       "      <td>54.8</td>\n",
       "      <td>1720</td>\n",
       "    </tr>\n",
       "    <tr>\n",
       "      <th>1</th>\n",
       "      <td>2</td>\n",
       "      <td>1</td>\n",
       "      <td>2250</td>\n",
       "      <td>7</td>\n",
       "      <td>51.9</td>\n",
       "      <td>1108</td>\n",
       "      <td>72.1</td>\n",
       "      <td>0.25</td>\n",
       "      <td>55.3</td>\n",
       "      <td>1575</td>\n",
       "    </tr>\n",
       "    <tr>\n",
       "      <th>2</th>\n",
       "      <td>3</td>\n",
       "      <td>1</td>\n",
       "      <td>1625</td>\n",
       "      <td>6</td>\n",
       "      <td>49.9</td>\n",
       "      <td>1011</td>\n",
       "      <td>71.6</td>\n",
       "      <td>0.15</td>\n",
       "      <td>53.1</td>\n",
       "      <td>1410</td>\n",
       "    </tr>\n",
       "    <tr>\n",
       "      <th>3</th>\n",
       "      <td>4</td>\n",
       "      <td>1</td>\n",
       "      <td>4600</td>\n",
       "      <td>8</td>\n",
       "      <td>53.1</td>\n",
       "      <td>993</td>\n",
       "      <td>68.9</td>\n",
       "      <td>0.35</td>\n",
       "      <td>56.4</td>\n",
       "      <td>1595</td>\n",
       "    </tr>\n",
       "    <tr>\n",
       "      <th>4</th>\n",
       "      <td>5</td>\n",
       "      <td>1</td>\n",
       "      <td>2150</td>\n",
       "      <td>7</td>\n",
       "      <td>51.2</td>\n",
       "      <td>996</td>\n",
       "      <td>68.6</td>\n",
       "      <td>0.25</td>\n",
       "      <td>55.0</td>\n",
       "      <td>1488</td>\n",
       "    </tr>\n",
       "    <tr>\n",
       "      <th>...</th>\n",
       "      <td>...</td>\n",
       "      <td>...</td>\n",
       "      <td>...</td>\n",
       "      <td>...</td>\n",
       "      <td>...</td>\n",
       "      <td>...</td>\n",
       "      <td>...</td>\n",
       "      <td>...</td>\n",
       "      <td>...</td>\n",
       "      <td>...</td>\n",
       "    </tr>\n",
       "    <tr>\n",
       "      <th>71</th>\n",
       "      <td>72</td>\n",
       "      <td>8</td>\n",
       "      <td>1450</td>\n",
       "      <td>7</td>\n",
       "      <td>51.4</td>\n",
       "      <td>997</td>\n",
       "      <td>73.4</td>\n",
       "      <td>0.10</td>\n",
       "      <td>55.2</td>\n",
       "      <td>1454</td>\n",
       "    </tr>\n",
       "    <tr>\n",
       "      <th>72</th>\n",
       "      <td>73</td>\n",
       "      <td>8</td>\n",
       "      <td>1200</td>\n",
       "      <td>6</td>\n",
       "      <td>49.8</td>\n",
       "      <td>991</td>\n",
       "      <td>70.8</td>\n",
       "      <td>0.15</td>\n",
       "      <td>54.6</td>\n",
       "      <td>1475</td>\n",
       "    </tr>\n",
       "    <tr>\n",
       "      <th>73</th>\n",
       "      <td>74</td>\n",
       "      <td>8</td>\n",
       "      <td>1425</td>\n",
       "      <td>6</td>\n",
       "      <td>50.0</td>\n",
       "      <td>928</td>\n",
       "      <td>70.8</td>\n",
       "      <td>0.10</td>\n",
       "      <td>53.9</td>\n",
       "      <td>1375</td>\n",
       "    </tr>\n",
       "    <tr>\n",
       "      <th>74</th>\n",
       "      <td>75</td>\n",
       "      <td>8</td>\n",
       "      <td>1250</td>\n",
       "      <td>6</td>\n",
       "      <td>50.1</td>\n",
       "      <td>990</td>\n",
       "      <td>71.0</td>\n",
       "      <td>0.10</td>\n",
       "      <td>54.9</td>\n",
       "      <td>1564</td>\n",
       "    </tr>\n",
       "    <tr>\n",
       "      <th>75</th>\n",
       "      <td>76</td>\n",
       "      <td>8</td>\n",
       "      <td>1500</td>\n",
       "      <td>7</td>\n",
       "      <td>51.7</td>\n",
       "      <td>992</td>\n",
       "      <td>70.6</td>\n",
       "      <td>0.15</td>\n",
       "      <td>55.1</td>\n",
       "      <td>1458</td>\n",
       "    </tr>\n",
       "  </tbody>\n",
       "</table>\n",
       "<p>76 rows × 10 columns</p>\n",
       "</div>"
      ],
      "text/plain": [
       "    bullno  breed  price  frame  heightyear  fatreebody  pcntfree  backfat  \\\n",
       "0        1      1   2200      7        51.0        1128      70.9     0.25   \n",
       "1        2      1   2250      7        51.9        1108      72.1     0.25   \n",
       "2        3      1   1625      6        49.9        1011      71.6     0.15   \n",
       "3        4      1   4600      8        53.1         993      68.9     0.35   \n",
       "4        5      1   2150      7        51.2         996      68.6     0.25   \n",
       "..     ...    ...    ...    ...         ...         ...       ...      ...   \n",
       "71      72      8   1450      7        51.4         997      73.4     0.10   \n",
       "72      73      8   1200      6        49.8         991      70.8     0.15   \n",
       "73      74      8   1425      6        50.0         928      70.8     0.10   \n",
       "74      75      8   1250      6        50.1         990      71.0     0.10   \n",
       "75      76      8   1500      7        51.7         992      70.6     0.15   \n",
       "\n",
       "    finalht  finalwt  \n",
       "0      54.8     1720  \n",
       "1      55.3     1575  \n",
       "2      53.1     1410  \n",
       "3      56.4     1595  \n",
       "4      55.0     1488  \n",
       "..      ...      ...  \n",
       "71     55.2     1454  \n",
       "72     54.6     1475  \n",
       "73     53.9     1375  \n",
       "74     54.9     1564  \n",
       "75     55.1     1458  \n",
       "\n",
       "[76 rows x 10 columns]"
      ]
     },
     "execution_count": 19,
     "metadata": {},
     "output_type": "execute_result"
    }
   ],
   "source": [
    "bulls #Gonna need to normalise it"
   ]
  },
  {
   "cell_type": "code",
   "execution_count": 100,
   "metadata": {},
   "outputs": [],
   "source": [
    "bulls2 = bulls.drop(columns=[\"breed\",\"price\",\"bullno\"])\n",
    "#For answering questions about size which don't depend on price\n",
    "bulls3 = bulls.drop(columns={\"bullno\"})\n",
    "#For the other questions"
   ]
  },
  {
   "cell_type": "code",
   "execution_count": 42,
   "metadata": {},
   "outputs": [],
   "source": [
    "scaler=StandardScaler()\n",
    "scaler.fit(bulls2)\n",
    "bulls2_sc=scaler.transform(bulls2)"
   ]
  },
  {
   "cell_type": "code",
   "execution_count": 43,
   "metadata": {},
   "outputs": [],
   "source": [
    "scaler=StandardScaler()\n",
    "scaler.fit(bulls3)\n",
    "bulls3_sc=scaler.transform(bulls3)"
   ]
  },
  {
   "cell_type": "code",
   "execution_count": 50,
   "metadata": {},
   "outputs": [
    {
     "data": {
      "text/plain": [
       "PCA(n_components=6)"
      ]
     },
     "execution_count": 50,
     "metadata": {},
     "output_type": "execute_result"
    }
   ],
   "source": [
    "pca=PCA(n_components=5)\n",
    "pca.fit(bulls2_sc)"
   ]
  },
  {
   "cell_type": "code",
   "execution_count": 101,
   "metadata": {},
   "outputs": [
    {
     "data": {
      "text/html": [
       "<div>\n",
       "<style scoped>\n",
       "    .dataframe tbody tr th:only-of-type {\n",
       "        vertical-align: middle;\n",
       "    }\n",
       "\n",
       "    .dataframe tbody tr th {\n",
       "        vertical-align: top;\n",
       "    }\n",
       "\n",
       "    .dataframe thead th {\n",
       "        text-align: right;\n",
       "    }\n",
       "</style>\n",
       "<table border=\"1\" class=\"dataframe\">\n",
       "  <thead>\n",
       "    <tr style=\"text-align: right;\">\n",
       "      <th></th>\n",
       "      <th>breed</th>\n",
       "      <th>price</th>\n",
       "      <th>frame</th>\n",
       "      <th>heightyear</th>\n",
       "      <th>fatreebody</th>\n",
       "      <th>pcntfree</th>\n",
       "      <th>backfat</th>\n",
       "      <th>finalht</th>\n",
       "      <th>finalwt</th>\n",
       "    </tr>\n",
       "  </thead>\n",
       "  <tbody>\n",
       "    <tr>\n",
       "      <th>0</th>\n",
       "      <td>1</td>\n",
       "      <td>2200</td>\n",
       "      <td>7</td>\n",
       "      <td>51.0</td>\n",
       "      <td>1128</td>\n",
       "      <td>70.9</td>\n",
       "      <td>0.25</td>\n",
       "      <td>54.8</td>\n",
       "      <td>1720</td>\n",
       "    </tr>\n",
       "    <tr>\n",
       "      <th>1</th>\n",
       "      <td>1</td>\n",
       "      <td>2250</td>\n",
       "      <td>7</td>\n",
       "      <td>51.9</td>\n",
       "      <td>1108</td>\n",
       "      <td>72.1</td>\n",
       "      <td>0.25</td>\n",
       "      <td>55.3</td>\n",
       "      <td>1575</td>\n",
       "    </tr>\n",
       "    <tr>\n",
       "      <th>2</th>\n",
       "      <td>1</td>\n",
       "      <td>1625</td>\n",
       "      <td>6</td>\n",
       "      <td>49.9</td>\n",
       "      <td>1011</td>\n",
       "      <td>71.6</td>\n",
       "      <td>0.15</td>\n",
       "      <td>53.1</td>\n",
       "      <td>1410</td>\n",
       "    </tr>\n",
       "    <tr>\n",
       "      <th>3</th>\n",
       "      <td>1</td>\n",
       "      <td>4600</td>\n",
       "      <td>8</td>\n",
       "      <td>53.1</td>\n",
       "      <td>993</td>\n",
       "      <td>68.9</td>\n",
       "      <td>0.35</td>\n",
       "      <td>56.4</td>\n",
       "      <td>1595</td>\n",
       "    </tr>\n",
       "    <tr>\n",
       "      <th>4</th>\n",
       "      <td>1</td>\n",
       "      <td>2150</td>\n",
       "      <td>7</td>\n",
       "      <td>51.2</td>\n",
       "      <td>996</td>\n",
       "      <td>68.6</td>\n",
       "      <td>0.25</td>\n",
       "      <td>55.0</td>\n",
       "      <td>1488</td>\n",
       "    </tr>\n",
       "    <tr>\n",
       "      <th>...</th>\n",
       "      <td>...</td>\n",
       "      <td>...</td>\n",
       "      <td>...</td>\n",
       "      <td>...</td>\n",
       "      <td>...</td>\n",
       "      <td>...</td>\n",
       "      <td>...</td>\n",
       "      <td>...</td>\n",
       "      <td>...</td>\n",
       "    </tr>\n",
       "    <tr>\n",
       "      <th>71</th>\n",
       "      <td>8</td>\n",
       "      <td>1450</td>\n",
       "      <td>7</td>\n",
       "      <td>51.4</td>\n",
       "      <td>997</td>\n",
       "      <td>73.4</td>\n",
       "      <td>0.10</td>\n",
       "      <td>55.2</td>\n",
       "      <td>1454</td>\n",
       "    </tr>\n",
       "    <tr>\n",
       "      <th>72</th>\n",
       "      <td>8</td>\n",
       "      <td>1200</td>\n",
       "      <td>6</td>\n",
       "      <td>49.8</td>\n",
       "      <td>991</td>\n",
       "      <td>70.8</td>\n",
       "      <td>0.15</td>\n",
       "      <td>54.6</td>\n",
       "      <td>1475</td>\n",
       "    </tr>\n",
       "    <tr>\n",
       "      <th>73</th>\n",
       "      <td>8</td>\n",
       "      <td>1425</td>\n",
       "      <td>6</td>\n",
       "      <td>50.0</td>\n",
       "      <td>928</td>\n",
       "      <td>70.8</td>\n",
       "      <td>0.10</td>\n",
       "      <td>53.9</td>\n",
       "      <td>1375</td>\n",
       "    </tr>\n",
       "    <tr>\n",
       "      <th>74</th>\n",
       "      <td>8</td>\n",
       "      <td>1250</td>\n",
       "      <td>6</td>\n",
       "      <td>50.1</td>\n",
       "      <td>990</td>\n",
       "      <td>71.0</td>\n",
       "      <td>0.10</td>\n",
       "      <td>54.9</td>\n",
       "      <td>1564</td>\n",
       "    </tr>\n",
       "    <tr>\n",
       "      <th>75</th>\n",
       "      <td>8</td>\n",
       "      <td>1500</td>\n",
       "      <td>7</td>\n",
       "      <td>51.7</td>\n",
       "      <td>992</td>\n",
       "      <td>70.6</td>\n",
       "      <td>0.15</td>\n",
       "      <td>55.1</td>\n",
       "      <td>1458</td>\n",
       "    </tr>\n",
       "  </tbody>\n",
       "</table>\n",
       "<p>76 rows × 9 columns</p>\n",
       "</div>"
      ],
      "text/plain": [
       "    breed  price  frame  heightyear  fatreebody  pcntfree  backfat  finalht  \\\n",
       "0       1   2200      7        51.0        1128      70.9     0.25     54.8   \n",
       "1       1   2250      7        51.9        1108      72.1     0.25     55.3   \n",
       "2       1   1625      6        49.9        1011      71.6     0.15     53.1   \n",
       "3       1   4600      8        53.1         993      68.9     0.35     56.4   \n",
       "4       1   2150      7        51.2         996      68.6     0.25     55.0   \n",
       "..    ...    ...    ...         ...         ...       ...      ...      ...   \n",
       "71      8   1450      7        51.4         997      73.4     0.10     55.2   \n",
       "72      8   1200      6        49.8         991      70.8     0.15     54.6   \n",
       "73      8   1425      6        50.0         928      70.8     0.10     53.9   \n",
       "74      8   1250      6        50.1         990      71.0     0.10     54.9   \n",
       "75      8   1500      7        51.7         992      70.6     0.15     55.1   \n",
       "\n",
       "    finalwt  \n",
       "0      1720  \n",
       "1      1575  \n",
       "2      1410  \n",
       "3      1595  \n",
       "4      1488  \n",
       "..      ...  \n",
       "71     1454  \n",
       "72     1475  \n",
       "73     1375  \n",
       "74     1564  \n",
       "75     1458  \n",
       "\n",
       "[76 rows x 9 columns]"
      ]
     },
     "execution_count": 101,
     "metadata": {},
     "output_type": "execute_result"
    }
   ],
   "source": [
    "bulls3"
   ]
  },
  {
   "cell_type": "code",
   "execution_count": 52,
   "metadata": {},
   "outputs": [
    {
     "data": {
      "text/plain": [
       "array([0.50689415, 0.72373325, 0.83318087, 0.89672542, 0.93514778,\n",
       "       0.9592753 ])"
      ]
     },
     "execution_count": 52,
     "metadata": {},
     "output_type": "execute_result"
    }
   ],
   "source": [
    "np.cumsum(pca.explained_variance_ratio_) #Use 5 variables as that accounts for 97% "
   ]
  },
  {
   "cell_type": "code",
   "execution_count": 53,
   "metadata": {},
   "outputs": [],
   "source": [
    "#Suggests that the data is spread out in around 5 dimensions"
   ]
  },
  {
   "cell_type": "code",
   "execution_count": 26,
   "metadata": {},
   "outputs": [],
   "source": [
    "#After removing the two columns and then normalising the thing, it seems you only need two principle components to summarize the sample."
   ]
  },
  {
   "cell_type": "code",
   "execution_count": 27,
   "metadata": {},
   "outputs": [
    {
     "data": {
      "text/plain": [
       "array([[ 0.4339569 ,  0.00772821, -0.45234503,  0.2428179 ,  0.14299538],\n",
       "       [ 0.44993132, -0.04279022, -0.41570891,  0.11335647,  0.06587066],\n",
       "       [ 0.41232559,  0.12983655,  0.45029241,  0.24747874, -0.71934339],\n",
       "       [ 0.35556181, -0.31550779,  0.56827313,  0.31478743,  0.57936738],\n",
       "       [-0.1867048 ,  0.71471936, -0.03873196,  0.61811707,  0.16023789],\n",
       "       [ 0.45285382,  0.10131509, -0.17665043, -0.21576938, -0.10953536],\n",
       "       [ 0.26994696,  0.60051483,  0.25331192, -0.58243265,  0.29054729]])"
      ]
     },
     "execution_count": 27,
     "metadata": {},
     "output_type": "execute_result"
    }
   ],
   "source": [
    "pca.components_.T"
   ]
  },
  {
   "cell_type": "code",
   "execution_count": 28,
   "metadata": {},
   "outputs": [
    {
     "data": {
      "image/png": "[encoded data removed]",
      "text/plain": [
       "<Figure size 576x396 with 1 Axes>"
      ]
     },
     "metadata": {},
     "output_type": "display_data"
    }
   ],
   "source": [
    "p=pca.fit_transform(bulls2_sc)\n",
    "plt.scatter(x=p[:,0],y=p[:,1])\n",
    "plt.xlabel(\"PC1\")\n",
    "plt.ylabel(\"PC2\")\n",
    "targets = ['0', '1', '2']\n",
    "colors = ['r', 'g', 'b'] \n",
    "#plt.savefig(\"pca.png\")"
   ]
  },
  {
   "cell_type": "code",
   "execution_count": 29,
   "metadata": {},
   "outputs": [
    {
     "data": {
      "text/plain": [
       "Text(0, 0.5, 'cumulative variance')"
      ]
     },
     "execution_count": 29,
     "metadata": {},
     "output_type": "execute_result"
    },
    {
     "data": {
      "image/png": "[encoded data removed]",
      "text/plain": [
       "<Figure size 576x396 with 1 Axes>"
      ]
     },
     "metadata": {},
     "output_type": "display_data"
    }
   ],
   "source": [
    "cumexp=np.concatenate([[0],pca.explained_variance_ratio_])\n",
    "plt.plot(np.cumsum(cumexp))\n",
    "plt.xlabel(\"number of components\")\n",
    "plt.ylabel(\"cumulative variance\")"
   ]
  },
  {
   "cell_type": "code",
   "execution_count": 30,
   "metadata": {},
   "outputs": [
    {
     "data": {
      "text/html": [
       "<div>\n",
       "<style scoped>\n",
       "    .dataframe tbody tr th:only-of-type {\n",
       "        vertical-align: middle;\n",
       "    }\n",
       "\n",
       "    .dataframe tbody tr th {\n",
       "        vertical-align: top;\n",
       "    }\n",
       "\n",
       "    .dataframe thead th {\n",
       "        text-align: right;\n",
       "    }\n",
       "</style>\n",
       "<table border=\"1\" class=\"dataframe\">\n",
       "  <thead>\n",
       "    <tr style=\"text-align: right;\">\n",
       "      <th></th>\n",
       "      <th>PC1</th>\n",
       "      <th>PC2</th>\n",
       "    </tr>\n",
       "  </thead>\n",
       "  <tbody>\n",
       "    <tr>\n",
       "      <th>frame</th>\n",
       "      <td>0.433957</td>\n",
       "      <td>0.007728</td>\n",
       "    </tr>\n",
       "    <tr>\n",
       "      <th>heightyear</th>\n",
       "      <td>0.449931</td>\n",
       "      <td>-0.042790</td>\n",
       "    </tr>\n",
       "    <tr>\n",
       "      <th>fatreebody</th>\n",
       "      <td>0.412326</td>\n",
       "      <td>0.129837</td>\n",
       "    </tr>\n",
       "    <tr>\n",
       "      <th>pcntfree</th>\n",
       "      <td>0.355562</td>\n",
       "      <td>-0.315508</td>\n",
       "    </tr>\n",
       "    <tr>\n",
       "      <th>backfat</th>\n",
       "      <td>-0.186705</td>\n",
       "      <td>0.714719</td>\n",
       "    </tr>\n",
       "    <tr>\n",
       "      <th>finalht</th>\n",
       "      <td>0.452854</td>\n",
       "      <td>0.101315</td>\n",
       "    </tr>\n",
       "    <tr>\n",
       "      <th>finalwt</th>\n",
       "      <td>0.269947</td>\n",
       "      <td>0.600515</td>\n",
       "    </tr>\n",
       "  </tbody>\n",
       "</table>\n",
       "</div>"
      ],
      "text/plain": [
       "                 PC1       PC2\n",
       "frame       0.433957  0.007728\n",
       "heightyear  0.449931 -0.042790\n",
       "fatreebody  0.412326  0.129837\n",
       "pcntfree    0.355562 -0.315508\n",
       "backfat    -0.186705  0.714719\n",
       "finalht     0.452854  0.101315\n",
       "finalwt     0.269947  0.600515"
      ]
     },
     "execution_count": 30,
     "metadata": {},
     "output_type": "execute_result"
    }
   ],
   "source": [
    "principleDf = pd.DataFrame(pca.components_.T, columns=['PC1', 'PC2',\"PC3\",\"PC4\",\"PC5\"], index=['frame', 'heightyear',\"fatreebody\",\"pcntfree\",\"backfat\",\"finalht\",\"finalwt\"])\n",
    "graphdf = principleDf.drop(columns=[\"PC3\",\"PC4\",\"PC5\"])\n",
    "graphdf # Have to drop higher dimensions to get a plot"
   ]
  },
  {
   "cell_type": "code",
   "execution_count": 189,
   "metadata": {},
   "outputs": [],
   "source": [
    "X = bulls2_sc\n",
    "y = bulls.breed"
   ]
  },
  {
   "cell_type": "code",
   "execution_count": 190,
   "metadata": {},
   "outputs": [],
   "source": [
    "from sklearn.preprocessing import LabelEncoder\n",
    "enc=LabelEncoder()\n",
    "label_encoder=enc.fit(y)\n",
    "y=label_encoder.transform(y)"
   ]
  },
  {
   "cell_type": "code",
   "execution_count": 191,
   "metadata": {},
   "outputs": [
    {
     "data": {
      "text/plain": [
       "LogisticRegression()"
      ]
     },
     "execution_count": 191,
     "metadata": {},
     "output_type": "execute_result"
    }
   ],
   "source": [
    "from sklearn.linear_model import LogisticRegression\n",
    "logreg=LogisticRegression()\n",
    "logreg.fit(X,y)"
   ]
  },
  {
   "cell_type": "code",
   "execution_count": 157,
   "metadata": {
    "scrolled": true
   },
   "outputs": [
    {
     "data": {
      "text/plain": [
       "array([-0.01298599, -0.37339513, -0.30085707,  0.20353363,  1.13400192,\n",
       "        0.06653577, -0.01461372])"
      ]
     },
     "execution_count": 157,
     "metadata": {},
     "output_type": "execute_result"
    }
   ],
   "source": [
    "logreg.coef_[0]"
   ]
  },
  {
   "cell_type": "code",
   "execution_count": 158,
   "metadata": {},
   "outputs": [
    {
     "data": {
      "text/plain": [
       "array([ 1.02717127, -0.52191138, -0.50525989])"
      ]
     },
     "execution_count": 158,
     "metadata": {},
     "output_type": "execute_result"
    }
   ],
   "source": [
    "logreg.intercept_"
   ]
  },
  {
   "cell_type": "code",
   "execution_count": 159,
   "metadata": {},
   "outputs": [
    {
     "data": {
      "text/html": [
       "<div>\n",
       "<style scoped>\n",
       "    .dataframe tbody tr th:only-of-type {\n",
       "        vertical-align: middle;\n",
       "    }\n",
       "\n",
       "    .dataframe tbody tr th {\n",
       "        vertical-align: top;\n",
       "    }\n",
       "\n",
       "    .dataframe thead th {\n",
       "        text-align: right;\n",
       "    }\n",
       "</style>\n",
       "<table border=\"1\" class=\"dataframe\">\n",
       "  <thead>\n",
       "    <tr style=\"text-align: right;\">\n",
       "      <th></th>\n",
       "      <th>coef</th>\n",
       "    </tr>\n",
       "  </thead>\n",
       "  <tbody>\n",
       "    <tr>\n",
       "      <th>frame</th>\n",
       "      <td>-0.012986</td>\n",
       "    </tr>\n",
       "    <tr>\n",
       "      <th>heightyear</th>\n",
       "      <td>-0.373395</td>\n",
       "    </tr>\n",
       "    <tr>\n",
       "      <th>fatreebody</th>\n",
       "      <td>-0.300857</td>\n",
       "    </tr>\n",
       "    <tr>\n",
       "      <th>pcntfree</th>\n",
       "      <td>0.203534</td>\n",
       "    </tr>\n",
       "    <tr>\n",
       "      <th>backfat</th>\n",
       "      <td>1.134002</td>\n",
       "    </tr>\n",
       "    <tr>\n",
       "      <th>finalht</th>\n",
       "      <td>0.066536</td>\n",
       "    </tr>\n",
       "    <tr>\n",
       "      <th>finalwt</th>\n",
       "      <td>-0.014614</td>\n",
       "    </tr>\n",
       "  </tbody>\n",
       "</table>\n",
       "</div>"
      ],
      "text/plain": [
       "                coef\n",
       "frame      -0.012986\n",
       "heightyear -0.373395\n",
       "fatreebody -0.300857\n",
       "pcntfree    0.203534\n",
       "backfat     1.134002\n",
       "finalht     0.066536\n",
       "finalwt    -0.014614"
      ]
     },
     "execution_count": 159,
     "metadata": {},
     "output_type": "execute_result"
    }
   ],
   "source": [
    "log_odds = logreg.coef_[0]\n",
    "pd.DataFrame(log_odds, \n",
    "             bulls2.columns, \n",
    "             columns=['coef'])"
   ]
  },
  {
   "cell_type": "code",
   "execution_count": 161,
   "metadata": {},
   "outputs": [
    {
     "data": {
      "text/plain": [
       "array([0, 0, 0, 0, 0, 1, 0, 0, 0, 0, 2, 0, 0, 0, 0, 0, 0, 1, 0, 0, 0, 0,\n",
       "       0, 0, 1, 0, 0, 0, 0, 0, 0, 1, 0, 1, 0, 0, 0, 1, 0, 0, 1, 0, 0, 1,\n",
       "       1, 1, 1, 1, 1, 2, 2, 2, 2, 2, 2, 2, 2, 2, 2, 2, 2, 2, 2, 2, 2, 2,\n",
       "       2, 2, 2, 2, 2, 2, 0, 2, 2, 2])"
      ]
     },
     "execution_count": 161,
     "metadata": {},
     "output_type": "execute_result"
    }
   ],
   "source": [
    "y_pred=logreg.predict(X)\n",
    "y_pred\n",
    "#Bulls #6.11,18,25,32,33,35,36,37,39,40,42,43,73"
   ]
  },
  {
   "cell_type": "code",
   "execution_count": 162,
   "metadata": {},
   "outputs": [
    {
     "data": {
      "text/plain": [
       "array([0, 0, 0, 0, 0, 1, 0, 0, 0, 0, 2, 0, 0, 0, 0, 0, 0, 1, 0, 0, 0, 0,\n",
       "       0, 0, 1, 0, 0, 0, 0, 0, 0, 1, 0, 1, 0, 0, 0, 1, 0, 0, 1, 0, 0, 1,\n",
       "       1, 1, 1, 1, 1, 2, 2, 2, 2, 2, 2, 2, 2, 2, 2, 2, 2, 2, 2, 2, 2, 2,\n",
       "       2, 2, 2, 2, 2, 2, 0, 2, 2, 2])"
      ]
     },
     "execution_count": 162,
     "metadata": {},
     "output_type": "execute_result"
    }
   ],
   "source": [
    "y_pred=logreg.predict(X)\n",
    "y_pred\n",
    "#Bulls #6.11,18,25,32,33,35,36,37,39,40,42,43,73"
   ]
  },
  {
   "cell_type": "code",
   "execution_count": null,
   "metadata": {},
   "outputs": [],
   "source": []
  },
  {
   "cell_type": "code",
   "execution_count": 38,
   "metadata": {},
   "outputs": [
    {
     "data": {
      "text/plain": [
       "array([0, 0, 0, 0, 0, 0, 0, 0, 0, 0, 0, 0, 0, 0, 0, 0, 0, 0, 0, 0, 0, 0,\n",
       "       0, 0, 0, 0, 0, 0, 0, 0, 0, 0, 1, 1, 1, 1, 1, 1, 1, 1, 1, 1, 1, 1,\n",
       "       1, 1, 1, 1, 1, 2, 2, 2, 2, 2, 2, 2, 2, 2, 2, 2, 2, 2, 2, 2, 2, 2,\n",
       "       2, 2, 2, 2, 2, 2, 2, 2, 2, 2])"
      ]
     },
     "execution_count": 38,
     "metadata": {},
     "output_type": "execute_result"
    }
   ],
   "source": [
    "y #32 0, 17 1,27 2"
   ]
  },
  {
   "cell_type": "code",
   "execution_count": 39,
   "metadata": {},
   "outputs": [
    {
     "data": {
      "text/html": [
       "<div>\n",
       "<style scoped>\n",
       "    .dataframe tbody tr th:only-of-type {\n",
       "        vertical-align: middle;\n",
       "    }\n",
       "\n",
       "    .dataframe tbody tr th {\n",
       "        vertical-align: top;\n",
       "    }\n",
       "\n",
       "    .dataframe thead th {\n",
       "        text-align: right;\n",
       "    }\n",
       "</style>\n",
       "<table border=\"1\" class=\"dataframe\">\n",
       "  <thead>\n",
       "    <tr style=\"text-align: right;\">\n",
       "      <th></th>\n",
       "      <th>principal component 1</th>\n",
       "      <th>principal component 2</th>\n",
       "      <th>breed</th>\n",
       "    </tr>\n",
       "  </thead>\n",
       "  <tbody>\n",
       "    <tr>\n",
       "      <th>0</th>\n",
       "      <td>1.426876</td>\n",
       "      <td>1.407609</td>\n",
       "      <td>1</td>\n",
       "    </tr>\n",
       "    <tr>\n",
       "      <th>1</th>\n",
       "      <td>1.514281</td>\n",
       "      <td>0.590662</td>\n",
       "      <td>1</td>\n",
       "    </tr>\n",
       "    <tr>\n",
       "      <th>2</th>\n",
       "      <td>-0.605145</td>\n",
       "      <td>-1.139748</td>\n",
       "      <td>1</td>\n",
       "    </tr>\n",
       "    <tr>\n",
       "      <th>3</th>\n",
       "      <td>1.516552</td>\n",
       "      <td>1.670269</td>\n",
       "      <td>1</td>\n",
       "    </tr>\n",
       "    <tr>\n",
       "      <th>4</th>\n",
       "      <td>0.196253</td>\n",
       "      <td>0.369729</td>\n",
       "      <td>1</td>\n",
       "    </tr>\n",
       "    <tr>\n",
       "      <th>...</th>\n",
       "      <td>...</td>\n",
       "      <td>...</td>\n",
       "      <td>...</td>\n",
       "    </tr>\n",
       "    <tr>\n",
       "      <th>71</th>\n",
       "      <td>1.067534</td>\n",
       "      <td>-1.453130</td>\n",
       "      <td>8</td>\n",
       "    </tr>\n",
       "    <tr>\n",
       "      <th>72</th>\n",
       "      <td>-0.331218</td>\n",
       "      <td>-0.708736</td>\n",
       "      <td>8</td>\n",
       "    </tr>\n",
       "    <tr>\n",
       "      <th>73</th>\n",
       "      <td>-0.824582</td>\n",
       "      <td>-1.705465</td>\n",
       "      <td>8</td>\n",
       "    </tr>\n",
       "    <tr>\n",
       "      <th>74</th>\n",
       "      <td>0.124126</td>\n",
       "      <td>-0.708947</td>\n",
       "      <td>8</td>\n",
       "    </tr>\n",
       "    <tr>\n",
       "      <th>75</th>\n",
       "      <td>0.697838</td>\n",
       "      <td>-0.780499</td>\n",
       "      <td>8</td>\n",
       "    </tr>\n",
       "  </tbody>\n",
       "</table>\n",
       "<p>76 rows × 3 columns</p>\n",
       "</div>"
      ],
      "text/plain": [
       "    principal component 1  principal component 2  breed\n",
       "0                1.426876               1.407609      1\n",
       "1                1.514281               0.590662      1\n",
       "2               -0.605145              -1.139748      1\n",
       "3                1.516552               1.670269      1\n",
       "4                0.196253               0.369729      1\n",
       "..                    ...                    ...    ...\n",
       "71               1.067534              -1.453130      8\n",
       "72              -0.331218              -0.708736      8\n",
       "73              -0.824582              -1.705465      8\n",
       "74               0.124126              -0.708947      8\n",
       "75               0.697838              -0.780499      8\n",
       "\n",
       "[76 rows x 3 columns]"
      ]
     },
     "execution_count": 39,
     "metadata": {},
     "output_type": "execute_result"
    }
   ],
   "source": [
    "#Graph\n",
    "pca = PCA(n_components=2) \n",
    "principalComponents = pca.fit_transform(bulls2_sc) \n",
    "principalDf = pd.DataFrame(data = principalComponents , columns = ['principal component 1', 'principal component 2'])\n",
    "finalDf = pd.concat([principalDf, bulls[['breed']]], axis = 1)\n",
    "finalDf"
   ]
  },
  {
   "cell_type": "code",
   "execution_count": 40,
   "metadata": {},
   "outputs": [
    {
     "data": {
      "image/png": "[encoded data removed]",
      "text/plain": [
       "<Figure size 576x360 with 1 Axes>"
      ]
     },
     "metadata": {},
     "output_type": "display_data"
    }
   ],
   "source": [
    "fig = plt.figure(figsize = (8,5)) \n",
    "ax = fig.add_subplot(1,1,1) \n",
    "ax.set_xlabel('Principal Component 1', fontsize = 10)\n",
    "ax.set_ylabel('Principal Component 2', fontsize = 10)\n",
    "ax.set_title('2 Component PCA', fontsize = 15) \n",
    "targets = [1,5, 8]\n",
    "colors = ['r', 'g', 'b'] \n",
    "for target, color in zip(targets,colors): \n",
    "    indicesToKeep = finalDf['breed'] == target\n",
    "    ax.scatter(finalDf.loc[indicesToKeep, 'principal component 1'] , finalDf.loc[indicesToKeep, 'principal component 2'] , c = color , s = 50)\n",
    "ax.legend(labels = [\"Angus\",\"Hereford\",\"Simental\"])\n",
    "ax.grid()\n",
    "#plt.savefig(\"2comppca.png\")"
   ]
  },
  {
   "cell_type": "code",
   "execution_count": 57,
   "metadata": {},
   "outputs": [],
   "source": [
    "#Regression between Angus and Hereford breedsbulls3"
   ]
  },
  {
   "cell_type": "code",
   "execution_count": 116,
   "metadata": {},
   "outputs": [],
   "source": [
    "bulls3_new = bulls3.drop(range(49,76))\n",
    "bulls3_final = bulls3_new.drop(columns={\"breed\"})"
   ]
  },
  {
   "cell_type": "code",
   "execution_count": 117,
   "metadata": {},
   "outputs": [],
   "source": [
    "#Scale bulls3\n",
    "scaler=StandardScaler()\n",
    "scaler.fit(bulls3_final)\n",
    "bulls3_sc=scaler.transform(bulls3_final)"
   ]
  },
  {
   "cell_type": "code",
   "execution_count": 118,
   "metadata": {},
   "outputs": [],
   "source": [
    "X = bulls3_sc\n",
    "y = bulls3_new.breed"
   ]
  },
  {
   "cell_type": "code",
   "execution_count": 119,
   "metadata": {},
   "outputs": [],
   "source": [
    "from sklearn.preprocessing import LabelEncoder\n",
    "enc=LabelEncoder()\n",
    "label_encoder=enc.fit(y)\n",
    "y=label_encoder.transform(y)"
   ]
  },
  {
   "cell_type": "code",
   "execution_count": 121,
   "metadata": {},
   "outputs": [
    {
     "data": {
      "text/plain": [
       "LogisticRegression()"
      ]
     },
     "execution_count": 121,
     "metadata": {},
     "output_type": "execute_result"
    }
   ],
   "source": [
    "from sklearn.linear_model import LogisticRegression\n",
    "logreg=LogisticRegression()\n",
    "logreg.fit(X,y)"
   ]
  },
  {
   "cell_type": "code",
   "execution_count": 124,
   "metadata": {},
   "outputs": [
    {
     "data": {
      "text/plain": [
       "array([0, 0, 0, 0, 0, 1, 0, 0, 0, 0, 0, 0, 0, 0, 0, 0, 0, 1, 0, 0, 0, 0,\n",
       "       0, 0, 1, 0, 0, 0, 0, 0, 0, 1, 0, 1, 0, 0, 0, 1, 0, 0, 1, 0, 0, 1,\n",
       "       1, 0, 1, 1, 1])"
      ]
     },
     "execution_count": 124,
     "metadata": {},
     "output_type": "execute_result"
    }
   ],
   "source": [
    "y_pred=logreg.predict(X)\n",
    "y_pred"
   ]
  },
  {
   "cell_type": "code",
   "execution_count": 126,
   "metadata": {},
   "outputs": [
    {
     "data": {
      "text/plain": [
       "array([[0.88368441, 0.11631559],\n",
       "       [0.95220518, 0.04779482],\n",
       "       [0.75559401, 0.24440599],\n",
       "       [0.9956607 , 0.0043393 ],\n",
       "       [0.88441647, 0.11558353],\n",
       "       [0.39461658, 0.60538342],\n",
       "       [0.92536185, 0.07463815],\n",
       "       [0.98127255, 0.01872745],\n",
       "       [0.64795615, 0.35204385],\n",
       "       [0.98025065, 0.01974935],\n",
       "       [0.73720282, 0.26279718],\n",
       "       [0.87639714, 0.12360286],\n",
       "       [0.87980995, 0.12019005],\n",
       "       [0.81609355, 0.18390645],\n",
       "       [0.9018876 , 0.0981124 ],\n",
       "       [0.85181766, 0.14818234],\n",
       "       [0.82879241, 0.17120759],\n",
       "       [0.29645153, 0.70354847],\n",
       "       [0.64999465, 0.35000535],\n",
       "       [0.7446556 , 0.2553444 ],\n",
       "       [0.52288137, 0.47711863],\n",
       "       [0.87586327, 0.12413673],\n",
       "       [0.59029412, 0.40970588],\n",
       "       [0.75650736, 0.24349264],\n",
       "       [0.36322409, 0.63677591],\n",
       "       [0.79883148, 0.20116852],\n",
       "       [0.87933595, 0.12066405],\n",
       "       [0.89396168, 0.10603832],\n",
       "       [0.80928161, 0.19071839],\n",
       "       [0.630987  , 0.369013  ],\n",
       "       [0.7299031 , 0.2700969 ],\n",
       "       [0.41244097, 0.58755903],\n",
       "       [0.69438968, 0.30561032],\n",
       "       [0.33087815, 0.66912185],\n",
       "       [0.54073721, 0.45926279],\n",
       "       [0.69533348, 0.30466652],\n",
       "       [0.68339525, 0.31660475],\n",
       "       [0.20210499, 0.79789501],\n",
       "       [0.70636669, 0.29363331],\n",
       "       [0.65772793, 0.34227207],\n",
       "       [0.29160605, 0.70839395],\n",
       "       [0.63511047, 0.36488953],\n",
       "       [0.66723679, 0.33276321],\n",
       "       [0.16476704, 0.83523296],\n",
       "       [0.35868548, 0.64131452],\n",
       "       [0.5574543 , 0.4425457 ],\n",
       "       [0.13080196, 0.86919804],\n",
       "       [0.08544034, 0.91455966],\n",
       "       [0.35027501, 0.64972499]])"
      ]
     },
     "execution_count": 126,
     "metadata": {},
     "output_type": "execute_result"
    }
   ],
   "source": [
    "logreg.predict_proba(X)"
   ]
  },
  {
   "cell_type": "code",
   "execution_count": 130,
   "metadata": {},
   "outputs": [
    {
     "data": {
      "text/plain": [
       "array([[28,  4],\n",
       "       [ 9,  8]])"
      ]
     },
     "execution_count": 130,
     "metadata": {},
     "output_type": "execute_result"
    }
   ],
   "source": [
    "from sklearn import metrics\n",
    "cm=metrics.confusion_matrix(y,y_pred)\n",
    "cm"
   ]
  },
  {
   "cell_type": "code",
   "execution_count": 131,
   "metadata": {},
   "outputs": [
    {
     "data": {
      "text/plain": [
       "0.7346938775510204"
      ]
     },
     "execution_count": 131,
     "metadata": {},
     "output_type": "execute_result"
    }
   ],
   "source": [
    "score = logreg.score(X,y)\n",
    "score"
   ]
  },
  {
   "cell_type": "code",
   "execution_count": 137,
   "metadata": {},
   "outputs": [
    {
     "data": {
      "text/plain": [
       "Text(0.5, 1.0, 'Confusion Matrix')"
      ]
     },
     "execution_count": 137,
     "metadata": {},
     "output_type": "execute_result"
    },
    {
     "data": {
      "image/png": "[encoded data removed]",
      "text/plain": [
       "<Figure size 432x432 with 2 Axes>"
      ]
     },
     "metadata": {},
     "output_type": "display_data"
    }
   ],
   "source": [
    "plt.figure(figsize=(6,6))\n",
    "sns.heatmap(cm,annot=True,fmt=\"d\",linewidths=.5,square=True,cmap=\"Blues_r\")\n",
    "plt.ylabel(\"Actual label\")\n",
    "plt.xlabel(\"Predicted label\")\n",
    "all_sample_title=\"Accuracy Score: {0}\".format(score)\n",
    "plt.title(\"Confusion Matrix\",size=15)\n",
    "#plt.savefig(\"confusion.png\")"
   ]
  },
  {
   "cell_type": "code",
   "execution_count": 197,
   "metadata": {},
   "outputs": [],
   "source": [
    "from sklearn.model_selection import train_test_split\n",
    "X_train,X_test,y_train,y_test=train_test_split(X,y,test_size=0.25)"
   ]
  },
  {
   "cell_type": "code",
   "execution_count": 198,
   "metadata": {},
   "outputs": [],
   "source": [
    "logreg=LogisticRegression()\n",
    "logreg.fit(X_train,y_train)\n",
    "y_pred=logreg.predict(X_test)"
   ]
  },
  {
   "cell_type": "code",
   "execution_count": 199,
   "metadata": {},
   "outputs": [
    {
     "data": {
      "text/plain": [
       "array([1, 0, 0, 1, 0, 0, 1, 2, 2, 0, 2, 2, 2, 0, 0, 1, 1, 1, 1])"
      ]
     },
     "execution_count": 199,
     "metadata": {},
     "output_type": "execute_result"
    }
   ],
   "source": [
    "y_test"
   ]
  },
  {
   "cell_type": "code",
   "execution_count": 200,
   "metadata": {},
   "outputs": [
    {
     "data": {
      "text/plain": [
       "array([0, 0, 0, 1, 1, 2, 1, 2, 2, 0, 2, 2, 2, 1, 0, 1, 0, 0, 0])"
      ]
     },
     "execution_count": 200,
     "metadata": {},
     "output_type": "execute_result"
    }
   ],
   "source": [
    "y_pred"
   ]
  },
  {
   "cell_type": "code",
   "execution_count": 201,
   "metadata": {},
   "outputs": [
    {
     "data": {
      "text/plain": [
       "array([2])"
      ]
     },
     "execution_count": 201,
     "metadata": {},
     "output_type": "execute_result"
    }
   ],
   "source": [
    "df = [[7,50,1000,73,0.17,54,1525]]\n",
    "logreg.predict(df)"
   ]
  },
  {
   "cell_type": "code",
   "execution_count": 206,
   "metadata": {},
   "outputs": [
    {
     "data": {
      "text/plain": [
       "0.8026315789473685"
      ]
     },
     "execution_count": 206,
     "metadata": {},
     "output_type": "execute_result"
    }
   ],
   "source": [
    "logreg.score(X,y)"
   ]
  },
  {
   "cell_type": "code",
   "execution_count": 208,
   "metadata": {},
   "outputs": [
    {
     "data": {
      "text/plain": [
       "0.7346938775510204"
      ]
     },
     "execution_count": 208,
     "metadata": {},
     "output_type": "execute_result"
    }
   ],
   "source": [
    "accuracy=(cm[0,0]+cm[1,1])/(cm[0,0]+cm[0,1]+cm[1,0]+cm[1,1])\n",
    "accuracy"
   ]
  }
 ],
 "metadata": {
  "kernelspec": {
   "display_name": "Python 3",
   "language": "python",
   "name": "python3"
  },
  "language_info": {
   "codemirror_mode": {
    "name": "ipython",
    "version": 3
   },
   "file_extension": ".py",
   "mimetype": "text/x-python",
   "name": "python",
   "nbconvert_exporter": "python",
   "pygments_lexer": "ipython3",
   "version": "3.10.4"
  }
 },
 "nbformat": 4,
 "nbformat_minor": 4
}
